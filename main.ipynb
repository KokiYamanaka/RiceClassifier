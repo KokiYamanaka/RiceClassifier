{
  "cells": [
    {
      "cell_type": "markdown",
      "id": "0b980d3b",
      "metadata": {
        "id": "0b980d3b"
      },
      "source": [
        "Since our dataset is organized in terms of rice category, we take all 75,000 images of rice and organize into 3 different files (train/test/test) by shuffling."
      ]
    },
    {
      "cell_type": "code",
      "execution_count": null,
      "id": "77b13cf7",
      "metadata": {
        "id": "77b13cf7"
      },
      "outputs": [],
      "source": [
        "# API to split folders \n",
        "import pathlib\n",
        "import splitfolders"
      ]
    },
    {
      "cell_type": "code",
      "execution_count": null,
      "id": "a60848d5",
      "metadata": {
        "id": "a60848d5",
        "outputId": "14567269-8b77-41a7-9adb-3c7e15ad6ffa"
      },
      "outputs": [
        {
          "data": {
            "text/plain": [
              "WindowsPath('C:/Users/liewg/OneDrive/Desktop/Rice classifier with CNN/rice')"
            ]
          },
          "execution_count": 2,
          "metadata": {},
          "output_type": "execute_result"
        }
      ],
      "source": [
        "# get directory where dataset are located \n",
        "base_ds = r'C:\\Users\\liewg\\OneDrive\\Desktop\\Rice classifier with CNN\\rice'\n",
        "base_ds = pathlib.Path(base_ds)\n",
        "base_ds"
      ]
    },
    {
      "cell_type": "code",
      "execution_count": null,
      "id": "36a4ad60",
      "metadata": {
        "scrolled": true,
        "id": "36a4ad60"
      },
      "outputs": [],
      "source": [
        "# create 3 folders in the output directory for train/val/test with split ratio\n",
        "# # splitfolders.ratio(base_ds, output='images', seed=123, ratio=(.7,.15,.15), group_prefix=None)"
      ]
    },
    {
      "cell_type": "markdown",
      "source": [
        "- Next, we create batches of images from the folders we organize/split.\n",
        "- We grayscale each images from the folder and split it into 3 files.\n",
        "- As we can see the output, the distribution of dataset is in the ratio of 0.7/0.15/0.15. Since we have a large dataset (5digits), we recommend this ratio split."
      ],
      "metadata": {
        "id": "9xcm665oZCXS"
      },
      "id": "9xcm665oZCXS"
    },
    {
      "cell_type": "code",
      "execution_count": null,
      "id": "0f7ff552",
      "metadata": {
        "id": "0f7ff552",
        "outputId": "40c1ef47-9d1a-43e6-f819-09112677c880"
      },
      "outputs": [
        {
          "name": "stdout",
          "output_type": "stream",
          "text": [
            "Found 52500 images belonging to 5 classes.\n",
            "Found 11250 images belonging to 5 classes.\n",
            "Found 11250 images belonging to 5 classes.\n"
          ]
        }
      ],
      "source": [
        "from keras.preprocessing.image import ImageDataGenerator\n",
        "\n",
        "# generate batches\n",
        "datagen = ImageDataGenerator(rescale=1./255)\n",
        "\n",
        "# define train/val/test data \n",
        "train_data = datagen.flow_from_directory('images/train', color_mode = 'grayscale', target_size = (28,28))\n",
        "val_data  = datagen.flow_from_directory('images/val', color_mode = 'grayscale', target_size = (28,28))\n",
        "test_data = datagen.flow_from_directory('images/test', color_mode = 'grayscale', target_size = (28,28))"
      ]
    },
    {
      "cell_type": "markdown",
      "source": [
        "Each image consists the pixel size by 28x28"
      ],
      "metadata": {
        "id": "6r4n3bmWbbMG"
      },
      "id": "6r4n3bmWbbMG"
    },
    {
      "cell_type": "code",
      "execution_count": null,
      "id": "e4284051",
      "metadata": {
        "id": "e4284051",
        "outputId": "84bc0945-d236-4f14-ff98-4b5464301b6e"
      },
      "outputs": [
        {
          "data": {
            "text/plain": [
              "(32, 28, 28, 1)"
            ]
          },
          "execution_count": 5,
          "metadata": {},
          "output_type": "execute_result"
        }
      ],
      "source": [
        "train_data[0][0].shape # Batch size, pixel value, channel"
      ]
    },
    {
      "cell_type": "markdown",
      "source": [
        "- This is one single image from our training data.\n",
        "- Since the rice shows a distinguishable shape, it will possible to detect/compute the differences between different rice type by only using a low pixel value "
      ],
      "metadata": {
        "id": "dS7ZGUh4bse4"
      },
      "id": "dS7ZGUh4bse4"
    },
    {
      "cell_type": "code",
      "execution_count": null,
      "id": "3d7e94ed",
      "metadata": {
        "id": "3d7e94ed",
        "outputId": "b402fbc1-2651-4293-db08-60fe6b69d341"
      },
      "outputs": [
        {
          "data": {
            "text/plain": [
              "<matplotlib.image.AxesImage at 0x1f8dfe486d0>"
            ]
          },
          "execution_count": 6,
          "metadata": {},
          "output_type": "execute_result"
        },
        {
          "data": {
            "image/png": "[encoded data removed]",
            "text/plain": [
              "<Figure size 432x288 with 1 Axes>"
            ]
          },
          "metadata": {
            "needs_background": "light"
          },
          "output_type": "display_data"
        }
      ],
      "source": [
        "import matplotlib.pyplot as plt \n",
        "sample1 = train_data[0][0][0] # show a sample \n",
        "plt.imshow(sample1)"
      ]
    },
    {
      "cell_type": "markdown",
      "source": [
        "- We randomly pick a few images from our training set"
      ],
      "metadata": {
        "id": "UzXAz81VcP63"
      },
      "id": "UzXAz81VcP63"
    },
    {
      "cell_type": "code",
      "execution_count": null,
      "id": "a131adfe",
      "metadata": {
        "id": "a131adfe",
        "outputId": "10dc9f1b-70ce-48c4-a100-f99f9656aaa5"
      },
      "outputs": [
        {
          "data": {
            "image/png": "[encoded data removed]",
            "text/plain": [
              "<Figure size 720x720 with 5 Axes>"
            ]
          },
          "metadata": {
            "needs_background": "light"
          },
          "output_type": "display_data"
        }
      ],
      "source": [
        "import numpy as np \n",
        "import matplotlib.pyplot as plt\n",
        "\n",
        "\n",
        "fig, ax = plt.subplots(1,5,figsize=(10,10))\n",
        "for i in range(5):\n",
        "    ind = np.random.randint(32)\n",
        "    image = train_data[0][0][ind]\n",
        "    ax[i].imshow(image,cmap='gray')"
      ]
    },
    {
      "cell_type": "markdown",
      "source": [
        "Computation steps \n",
        "1. I've followed the typical LeNet-5 architecture developed by Yann Le Cunn, but removed 2 fully connected layer at the end. \n",
        "2. First, we take input image as a numerical matrix, then element wise each partial segment of the input image with a filter size of 3x3 by  stride of 1. Then we operate this by 32 times since we have 32 filters. \n",
        "3. Next we take Convolved image's partial segment, the try to find the maximum value. Then we assign each maximum value to a matrix. \n",
        "4. We operate the above steps twice but with differet number. Note that the dimension size is decreasing. This also means computation is getting smaller. \n",
        "5. We then take the final output from max pooling. We flatten that matrix into a vector with the shape of (3134,1) .\n",
        "6. We use (5) and feed in into a fully connected layer with 64 nodes. \n",
        "7. Finally we output the probability of each single rice type. The softmax node with the highest probability implies us which category of rice was the input. Since we classify 5 categories, our softmax node is 5.  \n"
      ],
      "metadata": {
        "id": "Tl3RuHLrcXlk"
      },
      "id": "Tl3RuHLrcXlk"
    },
    {
      "cell_type": "code",
      "execution_count": null,
      "id": "af7cae7b",
      "metadata": {
        "id": "af7cae7b"
      },
      "outputs": [],
      "source": [
        "from tensorflow.keras import layers, models\n",
        "model = models.Sequential ([\n",
        "            # convolution with 32 filters by size of 3x3 and apply padding to image\n",
        "            layers.Conv2D(32, (3, 3), activation='relu',input_shape=(28,28,1),padding='same'),\n",
        "            # Compute max pooling from Convolved image \n",
        "            layers.MaxPooling2D((2, 2)),\n",
        "    \n",
        "            # repeat twice, but 64 filters\n",
        "            layers.Conv2D(64, (3, 3), activation='relu',padding='same'),\n",
        "            layers.MaxPooling2D((2, 2)),\n",
        "    \n",
        "            # flatten the matrix into vector  which computed max pooling\n",
        "            layers.Flatten(),\n",
        "            # Fully connected layer size node of 64 \n",
        "            layers.Dense(64, activation='relu'),\n",
        "            # Build 5 softmax probability for 5 different category\n",
        "            layers.Dense(5, activation='softmax')\n",
        "        ])"
      ]
    },
    {
      "cell_type": "markdown",
      "source": [
        "We take a look at our model architecture"
      ],
      "metadata": {
        "id": "VUeGGvZlhkkY"
      },
      "id": "VUeGGvZlhkkY"
    },
    {
      "cell_type": "code",
      "execution_count": null,
      "id": "3be1d80d",
      "metadata": {
        "id": "3be1d80d",
        "outputId": "c2fefd50-db1e-47a8-cc33-828787898d10"
      },
      "outputs": [
        {
          "name": "stdout",
          "output_type": "stream",
          "text": [
            "Model: \"sequential\"\n",
            "_________________________________________________________________\n",
            " Layer (type)                Output Shape              Param #   \n",
            "=================================================================\n",
            " conv2d (Conv2D)             (None, 28, 28, 32)        320       \n",
            "                                                                 \n",
            " max_pooling2d (MaxPooling2D  (None, 14, 14, 32)       0         \n",
            " )                                                               \n",
            "                                                                 \n",
            " conv2d_1 (Conv2D)           (None, 14, 14, 64)        18496     \n",
            "                                                                 \n",
            " max_pooling2d_1 (MaxPooling  (None, 7, 7, 64)         0         \n",
            " 2D)                                                             \n",
            "                                                                 \n",
            " flatten (Flatten)           (None, 3136)              0         \n",
            "                                                                 \n",
            " dense (Dense)               (None, 64)                200768    \n",
            "                                                                 \n",
            " dense_1 (Dense)             (None, 5)                 325       \n",
            "                                                                 \n",
            "=================================================================\n",
            "Total params: 219,909\n",
            "Trainable params: 219,909\n",
            "Non-trainable params: 0\n",
            "_________________________________________________________________\n"
          ]
        }
      ],
      "source": [
        "model.summary()"
      ]
    },
    {
      "cell_type": "markdown",
      "source": [
        "Since this is a multi classification task, we use categorical_crossentropy as our loss function."
      ],
      "metadata": {
        "id": "o7MUF5UUhqjq"
      },
      "id": "o7MUF5UUhqjq"
    },
    {
      "cell_type": "code",
      "execution_count": null,
      "id": "b844188c",
      "metadata": {
        "id": "b844188c"
      },
      "outputs": [],
      "source": [
        "model.compile(loss = 'categorical_crossentropy',\n",
        "             optimizer = 'adam',\n",
        "             metrics = ['acc'])"
      ]
    },
    {
      "cell_type": "code",
      "execution_count": null,
      "id": "770a3469",
      "metadata": {
        "id": "770a3469",
        "outputId": "144b3693-be69-43cb-ea87-11c002d80f31"
      },
      "outputs": [
        {
          "name": "stdout",
          "output_type": "stream",
          "text": [
            "Epoch 1/10\n",
            "1641/1641 [==============================] - 83s 51ms/step - loss: 0.1627 - acc: 0.9419 - val_loss: 0.0959 - val_acc: 0.9665\n",
            "Epoch 2/10\n",
            "1641/1641 [==============================] - 62s 38ms/step - loss: 0.0945 - acc: 0.9661 - val_loss: 0.0892 - val_acc: 0.9679\n",
            "Epoch 3/10\n",
            "1641/1641 [==============================] - 63s 38ms/step - loss: 0.0852 - acc: 0.9695 - val_loss: 0.0905 - val_acc: 0.9695\n",
            "Epoch 4/10\n",
            "1641/1641 [==============================] - 62s 38ms/step - loss: 0.0796 - acc: 0.9721 - val_loss: 0.0843 - val_acc: 0.9726\n",
            "Epoch 5/10\n",
            "1641/1641 [==============================] - 63s 38ms/step - loss: 0.0729 - acc: 0.9744 - val_loss: 0.0788 - val_acc: 0.9741\n",
            "Epoch 6/10\n",
            "1641/1641 [==============================] - 63s 38ms/step - loss: 0.0664 - acc: 0.9764 - val_loss: 0.0659 - val_acc: 0.9782\n",
            "Epoch 7/10\n",
            "1641/1641 [==============================] - 64s 39ms/step - loss: 0.0601 - acc: 0.9789 - val_loss: 0.0660 - val_acc: 0.9782\n",
            "Epoch 8/10\n",
            "1641/1641 [==============================] - 65s 40ms/step - loss: 0.0569 - acc: 0.9799 - val_loss: 0.0722 - val_acc: 0.9760\n",
            "Epoch 9/10\n",
            "1641/1641 [==============================] - 64s 39ms/step - loss: 0.0509 - acc: 0.9818 - val_loss: 0.0595 - val_acc: 0.9805\n",
            "Epoch 10/10\n",
            "1641/1641 [==============================] - 63s 38ms/step - loss: 0.0476 - acc: 0.9829 - val_loss: 0.0739 - val_acc: 0.9760\n"
          ]
        }
      ],
      "source": [
        "result = model.fit(train_data, epochs = 10, validation_data = val_data)"
      ]
    },
    {
      "cell_type": "markdown",
      "source": [
        "In the graph, train and test set function is sticking each other closely. We do not see any overfit problem here. "
      ],
      "metadata": {
        "id": "_yYmY6OOhznm"
      },
      "id": "_yYmY6OOhznm"
    },
    {
      "cell_type": "code",
      "execution_count": null,
      "id": "9aca4e48",
      "metadata": {
        "id": "9aca4e48",
        "outputId": "f2a16d8a-8b82-4653-9f40-69007521a779"
      },
      "outputs": [
        {
          "data": {
            "image/png": "[encoded data removed]",
            "text/plain": [
              "<Figure size 432x288 with 1 Axes>"
            ]
          },
          "metadata": {
            "needs_background": "light"
          },
          "output_type": "display_data"
        },
        {
          "data": {
            "image/png": "[encoded data removed]",
            "text/plain": [
              "<Figure size 432x288 with 1 Axes>"
            ]
          },
          "metadata": {
            "needs_background": "light"
          },
          "output_type": "display_data"
        }
      ],
      "source": [
        "plt.plot(result.history['acc'])\n",
        "plt.plot(result.history['val_acc']) \n",
        "    \n",
        "plt.title('model accuracy')\n",
        "plt.ylabel('accuracy')\n",
        "plt.xlabel('epoch')\n",
        "plt.legend(['train','test'], loc='upper left')\n",
        "plt.show()\n",
        "\n",
        "plt.plot(result.history['loss'])\n",
        "plt.plot(result.history['val_loss'])\n",
        "\n",
        "plt.title('model loss')\n",
        "plt.ylabel('loss')\n",
        "plt.xlabel('epoch')\n",
        "plt.legend(['train','test'], loc='upper left')\n",
        "plt.show()"
      ]
    },
    {
      "cell_type": "markdown",
      "source": [
        "We evaluate our model on our unseen before test set to check our accuracy. "
      ],
      "metadata": {
        "id": "xzmXHOCTiFaB"
      },
      "id": "xzmXHOCTiFaB"
    },
    {
      "cell_type": "code",
      "execution_count": null,
      "id": "eec71ae3",
      "metadata": {
        "id": "eec71ae3"
      },
      "outputs": [],
      "source": [
        "_, test_accuracy = model.evaluate(test_data, verbose = False)"
      ]
    },
    {
      "cell_type": "code",
      "execution_count": null,
      "id": "03dcb383",
      "metadata": {
        "id": "03dcb383",
        "outputId": "73084420-52e5-4824-f5ae-f02ad95165e7"
      },
      "outputs": [
        {
          "name": "stdout",
          "output_type": "stream",
          "text": [
            "Test accuracy = 97.4%\n"
          ]
        }
      ],
      "source": [
        "print(f'Test accuracy = {test_accuracy*100:.1f}%')"
      ]
    }
  ],
  "metadata": {
    "kernelspec": {
      "display_name": "Python 3 (ipykernel)",
      "language": "python",
      "name": "python3"
    },
    "language_info": {
      "codemirror_mode": {
        "name": "ipython",
        "version": 3
      },
      "file_extension": ".py",
      "mimetype": "text/x-python",
      "name": "python",
      "nbconvert_exporter": "python",
      "pygments_lexer": "ipython3",
      "version": "3.9.12"
    },
    "colab": {
      "name": "main(2).ipynb",
      "provenance": []
    }
  },
  "nbformat": 4,
  "nbformat_minor": 5
}
